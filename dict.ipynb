{
 "cells": [
  {
   "cell_type": "code",
   "execution_count": 41,
   "metadata": {},
   "outputs": [
    {
     "name": "stdout",
     "output_type": "stream",
     "text": [
      "The original dictionary is:  {'all': 1, 'food': 2, 'good': 3, 'have': 5}\n",
      "[('all', 1), ('food', 2), ('good', 3), ('have', 5)]\n",
      "<enumerate object at 0x11c2c8db0>\n",
      "Index of search key is:  [1]\n"
     ]
    }
   ],
   "source": [
    "test_dict = {'all': 1, 'food': 2, 'good': 3, 'have': 5}\n",
    "\n",
    "search_key = 'all'\n",
    "\n",
    "print('The original dictionary is: ', str(test_dict))\n",
    "\n",
    "list_tect_dict = list(test_dict.items())\n",
    "print(list_tect_dict)\n",
    "print(enumerate(list_tect_dict))\n",
    "\n",
    "# list comprehension + enumerate()\n",
    "comprehension = [value for value, key in enumerate(list_tect_dict) if key[0] == search_key]\n",
    "\n",
    "\n",
    "print('Index of search key is: ', str(comprehension))"
   ]
  },
  {
   "cell_type": "code",
   "execution_count": 2,
   "metadata": {},
   "outputs": [
    {
     "name": "stdout",
     "output_type": "stream",
     "text": [
      "dict_items([('brand', 'ford'), ('model', 'mustang'), ('year', 1964)])\n",
      "<class 'dict_items'>\n"
     ]
    }
   ],
   "source": [
    "car = {'brand': 'ford',\n",
    "       'model': 'mustang',\n",
    "       'year': 1964\n",
    "}\n",
    "\n",
    "x = car.items()\n",
    "\n",
    "print(x)\n",
    "print(type(x))"
   ]
  },
  {
   "cell_type": "code",
   "execution_count": 18,
   "metadata": {},
   "outputs": [
    {
     "name": "stdout",
     "output_type": "stream",
     "text": [
      "<enumerate object at 0x11c190040>\n"
     ]
    }
   ],
   "source": [
    "x = ('apple', 'banana', 'cherry')\n",
    "y = enumerate(x)\n",
    "\n",
    "print(y)"
   ]
  }
 ],
 "metadata": {
  "kernelspec": {
   "display_name": "Python 3 (ipykernel)",
   "language": "python",
   "name": "python3"
  },
  "language_info": {
   "codemirror_mode": {
    "name": "ipython",
    "version": 3
   },
   "file_extension": ".py",
   "mimetype": "text/x-python",
   "name": "python",
   "nbconvert_exporter": "python",
   "pygments_lexer": "ipython3",
   "version": "3.12.1"
  }
 },
 "nbformat": 4,
 "nbformat_minor": 4
}
